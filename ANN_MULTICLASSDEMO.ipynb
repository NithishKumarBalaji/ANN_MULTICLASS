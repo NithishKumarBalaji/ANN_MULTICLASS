{
  "nbformat": 4,
  "nbformat_minor": 0,
  "metadata": {
    "colab": {
      "provenance": []
    },
    "kernelspec": {
      "name": "python3",
      "display_name": "Python 3"
    },
    "language_info": {
      "name": "python"
    }
  },
  "cells": [
    {
      "cell_type": "code",
      "execution_count": null,
      "metadata": {
        "colab": {
          "base_uri": "https://localhost:8080/"
        },
        "id": "F01_Ub_4H_c1",
        "outputId": "3413d7b4-a35f-4c63-a91b-d9769d402b2f"
      },
      "outputs": [
        {
          "output_type": "stream",
          "name": "stdout",
          "text": [
            "Drive already mounted at /content/gdrive; to attempt to forcibly remount, call drive.mount(\"/content/gdrive\", force_remount=True).\n"
          ]
        }
      ],
      "source": [
        "from google.colab import drive\n",
        "drive.mount('/content/gdrive')\n",
        "\n"
      ]
    },
    {
      "cell_type": "code",
      "source": [
        "import pandas as pd\n",
        "import numpy as np\n",
        "from sklearn.preprocessing import OneHotEncoder\n",
        "from sklearn.model_selection import train_test_split\n",
        "from keras.models import Sequential\n",
        "from keras.layers import Dense\n",
        "from tensorflow.keras.optimizers import Adam"
      ],
      "metadata": {
        "id": "PDEqM-kqJWiX"
      },
      "execution_count": null,
      "outputs": []
    },
    {
      "cell_type": "code",
      "source": [
        "df=pd.read_csv('/content/gdrive/MyDrive/DatasetWeek2/bird.csv').dropna()"
      ],
      "metadata": {
        "id": "Onott0lBLCUq"
      },
      "execution_count": null,
      "outputs": []
    },
    {
      "cell_type": "code",
      "source": [
        "df.info()"
      ],
      "metadata": {
        "colab": {
          "base_uri": "https://localhost:8080/"
        },
        "id": "-cYjw3oPLKuB",
        "outputId": "9f12c7db-1505-4d16-b8d1-aec5457731d7"
      },
      "execution_count": null,
      "outputs": [
        {
          "output_type": "stream",
          "name": "stdout",
          "text": [
            "<class 'pandas.core.frame.DataFrame'>\n",
            "Int64Index: 413 entries, 0 to 419\n",
            "Data columns (total 12 columns):\n",
            " #   Column  Non-Null Count  Dtype  \n",
            "---  ------  --------------  -----  \n",
            " 0   id      413 non-null    int64  \n",
            " 1   huml    413 non-null    float64\n",
            " 2   humw    413 non-null    float64\n",
            " 3   ulnal   413 non-null    float64\n",
            " 4   ulnaw   413 non-null    float64\n",
            " 5   feml    413 non-null    float64\n",
            " 6   femw    413 non-null    float64\n",
            " 7   tibl    413 non-null    float64\n",
            " 8   tibw    413 non-null    float64\n",
            " 9   tarl    413 non-null    float64\n",
            " 10  tarw    413 non-null    float64\n",
            " 11  type    413 non-null    object \n",
            "dtypes: float64(10), int64(1), object(1)\n",
            "memory usage: 41.9+ KB\n"
          ]
        }
      ]
    },
    {
      "cell_type": "code",
      "source": [
        "df['type']"
      ],
      "metadata": {
        "colab": {
          "base_uri": "https://localhost:8080/"
        },
        "id": "6ZzHp0-hLwke",
        "outputId": "1d447562-de21-4f41-b608-7c33c88d8fae"
      },
      "execution_count": null,
      "outputs": [
        {
          "output_type": "execute_result",
          "data": {
            "text/plain": [
              "0      SW\n",
              "1      SW\n",
              "2      SW\n",
              "3      SW\n",
              "4      SW\n",
              "       ..\n",
              "415    SO\n",
              "416    SO\n",
              "417    SO\n",
              "418    SO\n",
              "419    SO\n",
              "Name: type, Length: 413, dtype: object"
            ]
          },
          "metadata": {},
          "execution_count": 63
        }
      ]
    },
    {
      "cell_type": "code",
      "source": [
        "df.shape"
      ],
      "metadata": {
        "colab": {
          "base_uri": "https://localhost:8080/"
        },
        "id": "4PohNXntL1ee",
        "outputId": "9815c187-d516-4002-ff69-449a7334fe93"
      },
      "execution_count": null,
      "outputs": [
        {
          "output_type": "execute_result",
          "data": {
            "text/plain": [
              "(413, 12)"
            ]
          },
          "metadata": {},
          "execution_count": 64
        }
      ]
    },
    {
      "cell_type": "code",
      "source": [
        "df.head(10)"
      ],
      "metadata": {
        "colab": {
          "base_uri": "https://localhost:8080/",
          "height": 363
        },
        "id": "YI3TjqWQL4rX",
        "outputId": "5398c2f8-a1f4-4e83-f848-83bfa2075bbf"
      },
      "execution_count": null,
      "outputs": [
        {
          "output_type": "execute_result",
          "data": {
            "text/plain": [
              "   id    huml   humw   ulnal  ulnaw   feml  femw    tibl  tibw   tarl  tarw  \\\n",
              "0   0   80.78   6.68   72.01   4.88  41.81  3.70    5.50  4.03  38.70  3.84   \n",
              "1   1   88.91   6.63   80.53   5.59  47.04  4.30   80.22  4.51  41.50  4.01   \n",
              "2   2   79.97   6.37   69.26   5.28  43.07  3.90   75.35  4.04  38.31  3.34   \n",
              "3   3   77.65   5.70   65.76   4.77  40.04  3.52   69.17  3.40  35.78  3.41   \n",
              "4   4   62.80   4.84   52.09   3.73  33.95  2.72   56.27  2.96  31.88  3.13   \n",
              "5   5   61.92   4.78   50.46   3.47  49.52  4.41   56.95  2.73  29.07  2.83   \n",
              "6   6   79.73   5.94   67.39   4.50  42.07  3.41   71.26  3.56  37.22  3.64   \n",
              "7   7   86.98   5.68   74.52   4.55  44.46  3.78   76.02  3.81  37.94  3.81   \n",
              "8   8  118.20   7.82  116.64   6.13  59.33  5.45  110.00  5.58  61.62  4.37   \n",
              "9   9  145.00  10.42  144.00   7.05  70.96  7.44  120.00  7.31  78.67  6.34   \n",
              "\n",
              "  type  \n",
              "0   SW  \n",
              "1   SW  \n",
              "2   SW  \n",
              "3   SW  \n",
              "4   SW  \n",
              "5   SW  \n",
              "6   SW  \n",
              "7   SW  \n",
              "8   SW  \n",
              "9   SW  "
            ],
            "text/html": [
              "\n",
              "  <div id=\"df-ed0e789f-8e6b-4f26-9930-13e5458b5783\">\n",
              "    <div class=\"colab-df-container\">\n",
              "      <div>\n",
              "<style scoped>\n",
              "    .dataframe tbody tr th:only-of-type {\n",
              "        vertical-align: middle;\n",
              "    }\n",
              "\n",
              "    .dataframe tbody tr th {\n",
              "        vertical-align: top;\n",
              "    }\n",
              "\n",
              "    .dataframe thead th {\n",
              "        text-align: right;\n",
              "    }\n",
              "</style>\n",
              "<table border=\"1\" class=\"dataframe\">\n",
              "  <thead>\n",
              "    <tr style=\"text-align: right;\">\n",
              "      <th></th>\n",
              "      <th>id</th>\n",
              "      <th>huml</th>\n",
              "      <th>humw</th>\n",
              "      <th>ulnal</th>\n",
              "      <th>ulnaw</th>\n",
              "      <th>feml</th>\n",
              "      <th>femw</th>\n",
              "      <th>tibl</th>\n",
              "      <th>tibw</th>\n",
              "      <th>tarl</th>\n",
              "      <th>tarw</th>\n",
              "      <th>type</th>\n",
              "    </tr>\n",
              "  </thead>\n",
              "  <tbody>\n",
              "    <tr>\n",
              "      <th>0</th>\n",
              "      <td>0</td>\n",
              "      <td>80.78</td>\n",
              "      <td>6.68</td>\n",
              "      <td>72.01</td>\n",
              "      <td>4.88</td>\n",
              "      <td>41.81</td>\n",
              "      <td>3.70</td>\n",
              "      <td>5.50</td>\n",
              "      <td>4.03</td>\n",
              "      <td>38.70</td>\n",
              "      <td>3.84</td>\n",
              "      <td>SW</td>\n",
              "    </tr>\n",
              "    <tr>\n",
              "      <th>1</th>\n",
              "      <td>1</td>\n",
              "      <td>88.91</td>\n",
              "      <td>6.63</td>\n",
              "      <td>80.53</td>\n",
              "      <td>5.59</td>\n",
              "      <td>47.04</td>\n",
              "      <td>4.30</td>\n",
              "      <td>80.22</td>\n",
              "      <td>4.51</td>\n",
              "      <td>41.50</td>\n",
              "      <td>4.01</td>\n",
              "      <td>SW</td>\n",
              "    </tr>\n",
              "    <tr>\n",
              "      <th>2</th>\n",
              "      <td>2</td>\n",
              "      <td>79.97</td>\n",
              "      <td>6.37</td>\n",
              "      <td>69.26</td>\n",
              "      <td>5.28</td>\n",
              "      <td>43.07</td>\n",
              "      <td>3.90</td>\n",
              "      <td>75.35</td>\n",
              "      <td>4.04</td>\n",
              "      <td>38.31</td>\n",
              "      <td>3.34</td>\n",
              "      <td>SW</td>\n",
              "    </tr>\n",
              "    <tr>\n",
              "      <th>3</th>\n",
              "      <td>3</td>\n",
              "      <td>77.65</td>\n",
              "      <td>5.70</td>\n",
              "      <td>65.76</td>\n",
              "      <td>4.77</td>\n",
              "      <td>40.04</td>\n",
              "      <td>3.52</td>\n",
              "      <td>69.17</td>\n",
              "      <td>3.40</td>\n",
              "      <td>35.78</td>\n",
              "      <td>3.41</td>\n",
              "      <td>SW</td>\n",
              "    </tr>\n",
              "    <tr>\n",
              "      <th>4</th>\n",
              "      <td>4</td>\n",
              "      <td>62.80</td>\n",
              "      <td>4.84</td>\n",
              "      <td>52.09</td>\n",
              "      <td>3.73</td>\n",
              "      <td>33.95</td>\n",
              "      <td>2.72</td>\n",
              "      <td>56.27</td>\n",
              "      <td>2.96</td>\n",
              "      <td>31.88</td>\n",
              "      <td>3.13</td>\n",
              "      <td>SW</td>\n",
              "    </tr>\n",
              "    <tr>\n",
              "      <th>5</th>\n",
              "      <td>5</td>\n",
              "      <td>61.92</td>\n",
              "      <td>4.78</td>\n",
              "      <td>50.46</td>\n",
              "      <td>3.47</td>\n",
              "      <td>49.52</td>\n",
              "      <td>4.41</td>\n",
              "      <td>56.95</td>\n",
              "      <td>2.73</td>\n",
              "      <td>29.07</td>\n",
              "      <td>2.83</td>\n",
              "      <td>SW</td>\n",
              "    </tr>\n",
              "    <tr>\n",
              "      <th>6</th>\n",
              "      <td>6</td>\n",
              "      <td>79.73</td>\n",
              "      <td>5.94</td>\n",
              "      <td>67.39</td>\n",
              "      <td>4.50</td>\n",
              "      <td>42.07</td>\n",
              "      <td>3.41</td>\n",
              "      <td>71.26</td>\n",
              "      <td>3.56</td>\n",
              "      <td>37.22</td>\n",
              "      <td>3.64</td>\n",
              "      <td>SW</td>\n",
              "    </tr>\n",
              "    <tr>\n",
              "      <th>7</th>\n",
              "      <td>7</td>\n",
              "      <td>86.98</td>\n",
              "      <td>5.68</td>\n",
              "      <td>74.52</td>\n",
              "      <td>4.55</td>\n",
              "      <td>44.46</td>\n",
              "      <td>3.78</td>\n",
              "      <td>76.02</td>\n",
              "      <td>3.81</td>\n",
              "      <td>37.94</td>\n",
              "      <td>3.81</td>\n",
              "      <td>SW</td>\n",
              "    </tr>\n",
              "    <tr>\n",
              "      <th>8</th>\n",
              "      <td>8</td>\n",
              "      <td>118.20</td>\n",
              "      <td>7.82</td>\n",
              "      <td>116.64</td>\n",
              "      <td>6.13</td>\n",
              "      <td>59.33</td>\n",
              "      <td>5.45</td>\n",
              "      <td>110.00</td>\n",
              "      <td>5.58</td>\n",
              "      <td>61.62</td>\n",
              "      <td>4.37</td>\n",
              "      <td>SW</td>\n",
              "    </tr>\n",
              "    <tr>\n",
              "      <th>9</th>\n",
              "      <td>9</td>\n",
              "      <td>145.00</td>\n",
              "      <td>10.42</td>\n",
              "      <td>144.00</td>\n",
              "      <td>7.05</td>\n",
              "      <td>70.96</td>\n",
              "      <td>7.44</td>\n",
              "      <td>120.00</td>\n",
              "      <td>7.31</td>\n",
              "      <td>78.67</td>\n",
              "      <td>6.34</td>\n",
              "      <td>SW</td>\n",
              "    </tr>\n",
              "  </tbody>\n",
              "</table>\n",
              "</div>\n",
              "      <button class=\"colab-df-convert\" onclick=\"convertToInteractive('df-ed0e789f-8e6b-4f26-9930-13e5458b5783')\"\n",
              "              title=\"Convert this dataframe to an interactive table.\"\n",
              "              style=\"display:none;\">\n",
              "        \n",
              "  <svg xmlns=\"http://www.w3.org/2000/svg\" height=\"24px\"viewBox=\"0 0 24 24\"\n",
              "       width=\"24px\">\n",
              "    <path d=\"M0 0h24v24H0V0z\" fill=\"none\"/>\n",
              "    <path d=\"M18.56 5.44l.94 2.06.94-2.06 2.06-.94-2.06-.94-.94-2.06-.94 2.06-2.06.94zm-11 1L8.5 8.5l.94-2.06 2.06-.94-2.06-.94L8.5 2.5l-.94 2.06-2.06.94zm10 10l.94 2.06.94-2.06 2.06-.94-2.06-.94-.94-2.06-.94 2.06-2.06.94z\"/><path d=\"M17.41 7.96l-1.37-1.37c-.4-.4-.92-.59-1.43-.59-.52 0-1.04.2-1.43.59L10.3 9.45l-7.72 7.72c-.78.78-.78 2.05 0 2.83L4 21.41c.39.39.9.59 1.41.59.51 0 1.02-.2 1.41-.59l7.78-7.78 2.81-2.81c.8-.78.8-2.07 0-2.86zM5.41 20L4 18.59l7.72-7.72 1.47 1.35L5.41 20z\"/>\n",
              "  </svg>\n",
              "      </button>\n",
              "      \n",
              "  <style>\n",
              "    .colab-df-container {\n",
              "      display:flex;\n",
              "      flex-wrap:wrap;\n",
              "      gap: 12px;\n",
              "    }\n",
              "\n",
              "    .colab-df-convert {\n",
              "      background-color: #E8F0FE;\n",
              "      border: none;\n",
              "      border-radius: 50%;\n",
              "      cursor: pointer;\n",
              "      display: none;\n",
              "      fill: #1967D2;\n",
              "      height: 32px;\n",
              "      padding: 0 0 0 0;\n",
              "      width: 32px;\n",
              "    }\n",
              "\n",
              "    .colab-df-convert:hover {\n",
              "      background-color: #E2EBFA;\n",
              "      box-shadow: 0px 1px 2px rgba(60, 64, 67, 0.3), 0px 1px 3px 1px rgba(60, 64, 67, 0.15);\n",
              "      fill: #174EA6;\n",
              "    }\n",
              "\n",
              "    [theme=dark] .colab-df-convert {\n",
              "      background-color: #3B4455;\n",
              "      fill: #D2E3FC;\n",
              "    }\n",
              "\n",
              "    [theme=dark] .colab-df-convert:hover {\n",
              "      background-color: #434B5C;\n",
              "      box-shadow: 0px 1px 3px 1px rgba(0, 0, 0, 0.15);\n",
              "      filter: drop-shadow(0px 1px 2px rgba(0, 0, 0, 0.3));\n",
              "      fill: #FFFFFF;\n",
              "    }\n",
              "  </style>\n",
              "\n",
              "      <script>\n",
              "        const buttonEl =\n",
              "          document.querySelector('#df-ed0e789f-8e6b-4f26-9930-13e5458b5783 button.colab-df-convert');\n",
              "        buttonEl.style.display =\n",
              "          google.colab.kernel.accessAllowed ? 'block' : 'none';\n",
              "\n",
              "        async function convertToInteractive(key) {\n",
              "          const element = document.querySelector('#df-ed0e789f-8e6b-4f26-9930-13e5458b5783');\n",
              "          const dataTable =\n",
              "            await google.colab.kernel.invokeFunction('convertToInteractive',\n",
              "                                                     [key], {});\n",
              "          if (!dataTable) return;\n",
              "\n",
              "          const docLinkHtml = 'Like what you see? Visit the ' +\n",
              "            '<a target=\"_blank\" href=https://colab.research.google.com/notebooks/data_table.ipynb>data table notebook</a>'\n",
              "            + ' to learn more about interactive tables.';\n",
              "          element.innerHTML = '';\n",
              "          dataTable['output_type'] = 'display_data';\n",
              "          await google.colab.output.renderOutput(dataTable, element);\n",
              "          const docLink = document.createElement('div');\n",
              "          docLink.innerHTML = docLinkHtml;\n",
              "          element.appendChild(docLink);\n",
              "        }\n",
              "      </script>\n",
              "    </div>\n",
              "  </div>\n",
              "  "
            ]
          },
          "metadata": {},
          "execution_count": 65
        }
      ]
    },
    {
      "cell_type": "code",
      "source": [
        "df['type'].value_counts()"
      ],
      "metadata": {
        "colab": {
          "base_uri": "https://localhost:8080/"
        },
        "id": "b2hD2Ut9L9JT",
        "outputId": "fbab9634-b85c-4c1a-82a1-7b5760013af7"
      },
      "execution_count": null,
      "outputs": [
        {
          "output_type": "execute_result",
          "data": {
            "text/plain": [
              "SO    124\n",
              "SW    116\n",
              "W      64\n",
              "R      48\n",
              "P      38\n",
              "T      23\n",
              "Name: type, dtype: int64"
            ]
          },
          "metadata": {},
          "execution_count": 66
        }
      ]
    },
    {
      "cell_type": "code",
      "source": [
        "x=df.drop('type',axis=1)\n",
        "y=df['type']"
      ],
      "metadata": {
        "id": "lsj-DMPrMeUU"
      },
      "execution_count": null,
      "outputs": []
    },
    {
      "cell_type": "code",
      "source": [
        "encoder=OneHotEncoder()\n",
        "encoder_Y=encoder.fit(y.values.reshape(-1,1))\n",
        "encoded_Y=encoder_Y.transform(y.values.reshape(-1,1)).toarray()"
      ],
      "metadata": {
        "id": "ZkIIHxWZM4zi"
      },
      "execution_count": null,
      "outputs": []
    },
    {
      "cell_type": "code",
      "source": [
        "encoded_Y"
      ],
      "metadata": {
        "colab": {
          "base_uri": "https://localhost:8080/"
        },
        "id": "JSaCe3AZNY7I",
        "outputId": "74d8f5d8-9ddc-45c3-dbf4-bd1de35ec007"
      },
      "execution_count": null,
      "outputs": [
        {
          "output_type": "execute_result",
          "data": {
            "text/plain": [
              "array([[0., 0., 0., 1., 0., 0.],\n",
              "       [0., 0., 0., 1., 0., 0.],\n",
              "       [0., 0., 0., 1., 0., 0.],\n",
              "       ...,\n",
              "       [0., 0., 1., 0., 0., 0.],\n",
              "       [0., 0., 1., 0., 0., 0.],\n",
              "       [0., 0., 1., 0., 0., 0.]])"
            ]
          },
          "metadata": {},
          "execution_count": 69
        }
      ]
    },
    {
      "cell_type": "code",
      "source": [
        "train_ratio=0.70\n",
        "validation_ratio=0.15\n",
        "test_ratio=0.15"
      ],
      "metadata": {
        "id": "1_OqZuQ_Nsq-"
      },
      "execution_count": null,
      "outputs": []
    },
    {
      "cell_type": "code",
      "source": [
        "trainX,testX,trainY,testY=train_test_split(x,encoded_Y,test_size=1-train_ratio)"
      ],
      "metadata": {
        "id": "zhA9QYElN8AL"
      },
      "execution_count": null,
      "outputs": []
    },
    {
      "cell_type": "code",
      "source": [
        "valX,testX,valY,testY=train_test_split(testX,testY,\n",
        "                                       test_size=test_ratio/(test_ratio+validation_ratio))"
      ],
      "metadata": {
        "id": "P_dsjrW6OXY1"
      },
      "execution_count": null,
      "outputs": []
    },
    {
      "cell_type": "code",
      "source": [
        "trainX.shape"
      ],
      "metadata": {
        "colab": {
          "base_uri": "https://localhost:8080/"
        },
        "id": "M45op1DXPbZo",
        "outputId": "a1652094-d513-4bea-dea9-fd2f092d319c"
      },
      "execution_count": null,
      "outputs": [
        {
          "output_type": "execute_result",
          "data": {
            "text/plain": [
              "(289, 11)"
            ]
          },
          "metadata": {},
          "execution_count": 74
        }
      ]
    },
    {
      "cell_type": "code",
      "source": [
        "testX.shape"
      ],
      "metadata": {
        "colab": {
          "base_uri": "https://localhost:8080/"
        },
        "id": "LmQ-J-anPeSZ",
        "outputId": "2efc8f82-4d06-4821-faed-7545bc9aaf8c"
      },
      "execution_count": null,
      "outputs": [
        {
          "output_type": "execute_result",
          "data": {
            "text/plain": [
              "(31, 11)"
            ]
          },
          "metadata": {},
          "execution_count": 75
        }
      ]
    },
    {
      "cell_type": "code",
      "source": [
        "valX.shape"
      ],
      "metadata": {
        "colab": {
          "base_uri": "https://localhost:8080/"
        },
        "id": "551VWeXkPj73",
        "outputId": "428d6c11-8ccc-4b6c-b824-3499121e5004"
      },
      "execution_count": null,
      "outputs": [
        {
          "output_type": "execute_result",
          "data": {
            "text/plain": [
              "(31, 11)"
            ]
          },
          "metadata": {},
          "execution_count": 76
        }
      ]
    },
    {
      "cell_type": "code",
      "source": [
        "input_shape=trainX.shape[1]"
      ],
      "metadata": {
        "id": "j-UyVOb4Qcch"
      },
      "execution_count": null,
      "outputs": []
    },
    {
      "cell_type": "code",
      "source": [
        "n_batch_size=20\n"
      ],
      "metadata": {
        "id": "lBUv1J8-Q0WH"
      },
      "execution_count": null,
      "outputs": []
    },
    {
      "cell_type": "code",
      "source": [
        "n_steps_per_epoch=int(trainX.shape[0]/n_batch_size)\n",
        "n_validation_steps=int(valX.shape[0]/n_batch_size)\n",
        "n_test_steps=int(testX.shape[0]/12)\n"
      ],
      "metadata": {
        "id": "Jd-KU-nzRDkJ"
      },
      "execution_count": null,
      "outputs": []
    },
    {
      "cell_type": "code",
      "source": [
        "n_test_steps"
      ],
      "metadata": {
        "colab": {
          "base_uri": "https://localhost:8080/"
        },
        "id": "TX-j28F4YL-w",
        "outputId": "a0eb239d-fdbc-4a14-8726-e27755461d7f"
      },
      "execution_count": null,
      "outputs": [
        {
          "output_type": "execute_result",
          "data": {
            "text/plain": [
              "2"
            ]
          },
          "metadata": {},
          "execution_count": 129
        }
      ]
    },
    {
      "cell_type": "code",
      "source": [
        "n_steps_per_epoch"
      ],
      "metadata": {
        "colab": {
          "base_uri": "https://localhost:8080/"
        },
        "id": "FMLtSoLYRyLU",
        "outputId": "88d3056a-9e82-4826-cff6-45ead41c05d7"
      },
      "execution_count": null,
      "outputs": [
        {
          "output_type": "execute_result",
          "data": {
            "text/plain": [
              "14"
            ]
          },
          "metadata": {},
          "execution_count": 130
        }
      ]
    },
    {
      "cell_type": "code",
      "source": [
        "n_epochs=25"
      ],
      "metadata": {
        "id": "mm1IvgCJR4ES"
      },
      "execution_count": null,
      "outputs": []
    },
    {
      "cell_type": "code",
      "source": [
        "n_classes=trainY.shape[1]\n",
        "n_classes"
      ],
      "metadata": {
        "colab": {
          "base_uri": "https://localhost:8080/"
        },
        "id": "8o7mF4LsR9Bc",
        "outputId": "89ccfb3f-1fc9-4ba9-ca33-a1be798540f2"
      },
      "execution_count": null,
      "outputs": [
        {
          "output_type": "execute_result",
          "data": {
            "text/plain": [
              "6"
            ]
          },
          "metadata": {},
          "execution_count": 132
        }
      ]
    },
    {
      "cell_type": "code",
      "source": [
        "model=Sequential()\n",
        "#Input Layer\n",
        "model.add(Dense(11,activation='relu',input_shape=(input_shape,)))\n",
        "#Hidden Layer\n",
        "model.add(Dense(8,activation='relu'))\n",
        "#output layer\n",
        "model.add(Dense(n_classes,activation='softmax'))\n",
        "\n",
        "\n",
        "\n"
      ],
      "metadata": {
        "id": "k_FedbFlSMQI"
      },
      "execution_count": null,
      "outputs": []
    },
    {
      "cell_type": "code",
      "source": [
        "model.summary()"
      ],
      "metadata": {
        "colab": {
          "base_uri": "https://localhost:8080/"
        },
        "id": "wqD3leGhTHOE",
        "outputId": "dc538333-0b9a-4883-c66b-8e2482bc5684"
      },
      "execution_count": null,
      "outputs": [
        {
          "output_type": "stream",
          "name": "stdout",
          "text": [
            "Model: \"sequential_3\"\n",
            "_________________________________________________________________\n",
            " Layer (type)                Output Shape              Param #   \n",
            "=================================================================\n",
            " dense_9 (Dense)             (None, 11)                132       \n",
            "                                                                 \n",
            " dense_10 (Dense)            (None, 8)                 96        \n",
            "                                                                 \n",
            " dense_11 (Dense)            (None, 6)                 54        \n",
            "                                                                 \n",
            "=================================================================\n",
            "Total params: 282\n",
            "Trainable params: 282\n",
            "Non-trainable params: 0\n",
            "_________________________________________________________________\n"
          ]
        }
      ]
    },
    {
      "cell_type": "code",
      "source": [
        "from keras.callbacks import EarlyStopping\n",
        "earlystop=EarlyStopping(monitor='val_loss',min_delta=0,patience=3,verbose=1,\n",
        "                        restore_best_weights=True)\n",
        "\n"
      ],
      "metadata": {
        "id": "0TjbO192TXky"
      },
      "execution_count": null,
      "outputs": []
    },
    {
      "cell_type": "code",
      "source": [
        "model.compile(loss='categorical_crossentropy',optimizer='adam',metrics=['accuracy'])"
      ],
      "metadata": {
        "id": "xTREQLx8UQyJ"
      },
      "execution_count": null,
      "outputs": []
    },
    {
      "cell_type": "code",
      "source": [
        "history=model.fit(trainX,trainY,steps_per_epoch=n_steps_per_epoch,\n",
        "                  epochs=100,batch_size=n_batch_size,\n",
        "                  validation_data=(valX,valY),\n",
        "                  validation_steps=n_validation_steps,callbacks=[earlystop])"
      ],
      "metadata": {
        "colab": {
          "base_uri": "https://localhost:8080/"
        },
        "id": "kISHse2mVA7F",
        "outputId": "e34dd120-6212-45f6-b097-e0640d0401ce"
      },
      "execution_count": null,
      "outputs": [
        {
          "output_type": "stream",
          "name": "stdout",
          "text": [
            "Epoch 1/100\n",
            "14/14 [==============================] - 3s 40ms/step - loss: 6.5415 - accuracy: 0.3071 - val_loss: 5.4177 - val_accuracy: 0.4500\n",
            "Epoch 2/100\n",
            "14/14 [==============================] - 0s 14ms/step - loss: 4.9424 - accuracy: 0.3160 - val_loss: 4.3401 - val_accuracy: 0.4500\n",
            "Epoch 3/100\n",
            "14/14 [==============================] - 0s 11ms/step - loss: 3.8443 - accuracy: 0.3903 - val_loss: 3.3398 - val_accuracy: 0.4000\n",
            "Epoch 4/100\n",
            "14/14 [==============================] - 0s 13ms/step - loss: 3.4433 - accuracy: 0.4089 - val_loss: 2.4615 - val_accuracy: 0.5000\n",
            "Epoch 5/100\n",
            "14/14 [==============================] - 0s 13ms/step - loss: 3.0774 - accuracy: 0.4015 - val_loss: 2.1302 - val_accuracy: 0.5000\n",
            "Epoch 6/100\n",
            "14/14 [==============================] - 0s 14ms/step - loss: 2.8868 - accuracy: 0.4312 - val_loss: 1.8744 - val_accuracy: 0.5000\n",
            "Epoch 7/100\n",
            "14/14 [==============================] - 0s 12ms/step - loss: 2.1459 - accuracy: 0.5316 - val_loss: 1.6203 - val_accuracy: 0.6500\n",
            "Epoch 8/100\n",
            "14/14 [==============================] - 0s 6ms/step - loss: 2.2604 - accuracy: 0.5539 - val_loss: 1.6142 - val_accuracy: 0.6500\n",
            "Epoch 9/100\n",
            "14/14 [==============================] - 0s 9ms/step - loss: 2.0114 - accuracy: 0.6022 - val_loss: 1.6173 - val_accuracy: 0.6000\n",
            "Epoch 10/100\n",
            "14/14 [==============================] - 0s 14ms/step - loss: 1.9667 - accuracy: 0.5985 - val_loss: 1.3618 - val_accuracy: 0.6500\n",
            "Epoch 11/100\n",
            "14/14 [==============================] - 0s 8ms/step - loss: 1.6656 - accuracy: 0.6394 - val_loss: 1.2335 - val_accuracy: 0.6500\n",
            "Epoch 12/100\n",
            "14/14 [==============================] - 0s 13ms/step - loss: 1.5453 - accuracy: 0.6543 - val_loss: 0.9531 - val_accuracy: 0.7000\n",
            "Epoch 13/100\n",
            "14/14 [==============================] - 0s 20ms/step - loss: 1.7785 - accuracy: 0.6320 - val_loss: 1.1032 - val_accuracy: 0.6000\n",
            "Epoch 14/100\n",
            "14/14 [==============================] - 0s 19ms/step - loss: 1.4531 - accuracy: 0.6431 - val_loss: 1.1566 - val_accuracy: 0.6500\n",
            "Epoch 15/100\n",
            "14/14 [==============================] - 0s 18ms/step - loss: 1.4464 - accuracy: 0.6580 - val_loss: 0.8839 - val_accuracy: 0.6500\n",
            "Epoch 16/100\n",
            "14/14 [==============================] - 0s 20ms/step - loss: 1.3716 - accuracy: 0.6893 - val_loss: 0.9432 - val_accuracy: 0.6500\n",
            "Epoch 17/100\n",
            "14/14 [==============================] - 0s 20ms/step - loss: 1.2231 - accuracy: 0.7175 - val_loss: 0.6854 - val_accuracy: 0.6500\n",
            "Epoch 18/100\n",
            "14/14 [==============================] - 0s 20ms/step - loss: 1.2456 - accuracy: 0.6654 - val_loss: 0.5999 - val_accuracy: 0.7500\n",
            "Epoch 19/100\n",
            "14/14 [==============================] - 0s 16ms/step - loss: 1.2388 - accuracy: 0.6654 - val_loss: 0.7024 - val_accuracy: 0.6500\n",
            "Epoch 20/100\n",
            "14/14 [==============================] - 0s 7ms/step - loss: 1.1138 - accuracy: 0.7361 - val_loss: 0.7257 - val_accuracy: 0.7000\n",
            "Epoch 21/100\n",
            " 1/14 [=>............................] - ETA: 0s - loss: 1.0936 - accuracy: 0.6000Restoring model weights from the end of the best epoch: 18.\n",
            "14/14 [==============================] - 0s 7ms/step - loss: 1.0934 - accuracy: 0.7212 - val_loss: 0.7128 - val_accuracy: 0.7500\n",
            "Epoch 21: early stopping\n"
          ]
        }
      ]
    },
    {
      "cell_type": "code",
      "source": [
        "history.history['accuracy']"
      ],
      "metadata": {
        "colab": {
          "base_uri": "https://localhost:8080/"
        },
        "id": "r1mHJN__dTIO",
        "outputId": "c0920f00-3ffe-4648-83db-4bb10da672f7"
      },
      "execution_count": null,
      "outputs": [
        {
          "output_type": "execute_result",
          "data": {
            "text/plain": [
              "[0.5416666865348816,\n",
              " 0.5875486135482788,\n",
              " 0.575875461101532,\n",
              " 0.548638105392456,\n",
              " 0.5953307151794434,\n",
              " 0.5642023086547852,\n",
              " 0.6420233249664307,\n",
              " 0.575875461101532,\n",
              " 0.6108949184417725,\n",
              " 0.6147859692573547,\n",
              " 0.6111111044883728,\n",
              " 0.6342412233352661,\n",
              " 0.6653696298599243,\n",
              " 0.6147859692573547,\n",
              " 0.618677020072937,\n",
              " 0.6381322741508484,\n",
              " 0.7198443412780762,\n",
              " 0.6381322741508484,\n",
              " 0.6108949184417725,\n",
              " 0.6536964774131775,\n",
              " 0.65625,\n",
              " 0.661478579044342,\n",
              " 0.6498054265975952,\n",
              " 0.6070038676261902,\n",
              " 0.6498054265975952,\n",
              " 0.6770427823066711,\n",
              " 0.6770427823066711,\n",
              " 0.6926069855690002,\n",
              " 0.6264591217041016,\n",
              " 0.6692606806755066,\n",
              " 0.6875,\n",
              " 0.6926069855690002,\n",
              " 0.6848248839378357,\n",
              " 0.6692606806755066,\n",
              " 0.688715934753418,\n",
              " 0.688715934753418,\n",
              " 0.6926069855690002,\n",
              " 0.6653696298599243,\n",
              " 0.7237353920936584,\n",
              " 0.7120622396469116,\n",
              " 0.6944444179534912,\n",
              " 0.6964980363845825,\n",
              " 0.6809338331222534,\n",
              " 0.7431906461715698,\n",
              " 0.7354085445404053,\n",
              " 0.7081711888313293,\n",
              " 0.7276264429092407,\n",
              " 0.6964980363845825,\n",
              " 0.7548637986183167,\n",
              " 0.7276264429092407,\n",
              " 0.6944444179534912,\n",
              " 0.731517493724823,\n",
              " 0.7003890872001648,\n",
              " 0.7470816969871521,\n",
              " 0.7276264429092407,\n",
              " 0.6926069855690002,\n",
              " 0.6809338331222534,\n",
              " 0.7198443412780762,\n",
              " 0.7081711888313293,\n",
              " 0.7470816969871521,\n",
              " 0.7326388955116272,\n",
              " 0.7237353920936584,\n",
              " 0.7081711888313293,\n",
              " 0.7198443412780762,\n",
              " 0.7198443412780762,\n",
              " 0.7276264429092407,\n",
              " 0.7626459002494812,\n",
              " 0.7237353920936584,\n",
              " 0.7159532904624939,\n",
              " 0.7626459002494812,\n",
              " 0.7465277910232544,\n",
              " 0.7431906461715698,\n",
              " 0.7159532904624939,\n",
              " 0.7431906461715698,\n",
              " 0.7509727478027344,\n",
              " 0.7665369510650635,\n",
              " 0.7704280018806458,\n",
              " 0.6731517314910889,\n",
              " 0.7276264429092407,\n",
              " 0.7120622396469116,\n",
              " 0.7534722089767456,\n",
              " 0.7003890872001648,\n",
              " 0.7431906461715698,\n",
              " 0.7042801380157471,\n",
              " 0.7081711888313293,\n",
              " 0.688715934753418,\n",
              " 0.7392995953559875,\n",
              " 0.7276264429092407,\n",
              " 0.7431906461715698,\n",
              " 0.6809338331222534,\n",
              " 0.7534722089767456,\n",
              " 0.731517493724823,\n",
              " 0.7392995953559875,\n",
              " 0.731517493724823,\n",
              " 0.7665369510650635,\n",
              " 0.7470816969871521,\n",
              " 0.7665369510650635,\n",
              " 0.7354085445404053,\n",
              " 0.774319052696228,\n",
              " 0.7665369510650635]"
            ]
          },
          "metadata": {},
          "execution_count": 123
        }
      ]
    },
    {
      "cell_type": "code",
      "source": [
        "hist_df=pd.DataFrame(history.history)\n",
        "hist_df['epochs']=hist_df.index+1\n",
        "cols=list(hist_df.columns)\n",
        "cols=[cols[-1]]+cols[:-1]\n",
        "hist_df=hist_df[cols]\n",
        "hist_df"
      ],
      "metadata": {
        "colab": {
          "base_uri": "https://localhost:8080/",
          "height": 707
        },
        "id": "6_N547eaW3ab",
        "outputId": "6c0ff17e-8bd7-4918-f0bb-81a515db881b"
      },
      "execution_count": null,
      "outputs": [
        {
          "output_type": "execute_result",
          "data": {
            "text/plain": [
              "    epochs      loss  accuracy  val_loss  val_accuracy\n",
              "0        1  6.541471  0.307143  5.417716          0.45\n",
              "1        2  4.942427  0.315985  4.340123          0.45\n",
              "2        3  3.844305  0.390335  3.339798          0.40\n",
              "3        4  3.443251  0.408922  2.461544          0.50\n",
              "4        5  3.077393  0.401487  2.130152          0.50\n",
              "5        6  2.886764  0.431227  1.874406          0.50\n",
              "6        7  2.145900  0.531599  1.620268          0.65\n",
              "7        8  2.260355  0.553903  1.614182          0.65\n",
              "8        9  2.011411  0.602230  1.617285          0.60\n",
              "9       10  1.966670  0.598513  1.361762          0.65\n",
              "10      11  1.665556  0.639405  1.233540          0.65\n",
              "11      12  1.545300  0.654275  0.953095          0.70\n",
              "12      13  1.778489  0.631970  1.103213          0.60\n",
              "13      14  1.453096  0.643123  1.156554          0.65\n",
              "14      15  1.446366  0.657993  0.883886          0.65\n",
              "15      16  1.371569  0.689286  0.943174          0.65\n",
              "16      17  1.223096  0.717472  0.685414          0.65\n",
              "17      18  1.245570  0.665428  0.599879          0.75\n",
              "18      19  1.238831  0.665428  0.702355          0.65\n",
              "19      20  1.113806  0.736059  0.725716          0.70\n",
              "20      21  1.093369  0.721190  0.712774          0.75"
            ],
            "text/html": [
              "\n",
              "  <div id=\"df-1bd5935d-310e-442b-9261-b661c04358e1\">\n",
              "    <div class=\"colab-df-container\">\n",
              "      <div>\n",
              "<style scoped>\n",
              "    .dataframe tbody tr th:only-of-type {\n",
              "        vertical-align: middle;\n",
              "    }\n",
              "\n",
              "    .dataframe tbody tr th {\n",
              "        vertical-align: top;\n",
              "    }\n",
              "\n",
              "    .dataframe thead th {\n",
              "        text-align: right;\n",
              "    }\n",
              "</style>\n",
              "<table border=\"1\" class=\"dataframe\">\n",
              "  <thead>\n",
              "    <tr style=\"text-align: right;\">\n",
              "      <th></th>\n",
              "      <th>epochs</th>\n",
              "      <th>loss</th>\n",
              "      <th>accuracy</th>\n",
              "      <th>val_loss</th>\n",
              "      <th>val_accuracy</th>\n",
              "    </tr>\n",
              "  </thead>\n",
              "  <tbody>\n",
              "    <tr>\n",
              "      <th>0</th>\n",
              "      <td>1</td>\n",
              "      <td>6.541471</td>\n",
              "      <td>0.307143</td>\n",
              "      <td>5.417716</td>\n",
              "      <td>0.45</td>\n",
              "    </tr>\n",
              "    <tr>\n",
              "      <th>1</th>\n",
              "      <td>2</td>\n",
              "      <td>4.942427</td>\n",
              "      <td>0.315985</td>\n",
              "      <td>4.340123</td>\n",
              "      <td>0.45</td>\n",
              "    </tr>\n",
              "    <tr>\n",
              "      <th>2</th>\n",
              "      <td>3</td>\n",
              "      <td>3.844305</td>\n",
              "      <td>0.390335</td>\n",
              "      <td>3.339798</td>\n",
              "      <td>0.40</td>\n",
              "    </tr>\n",
              "    <tr>\n",
              "      <th>3</th>\n",
              "      <td>4</td>\n",
              "      <td>3.443251</td>\n",
              "      <td>0.408922</td>\n",
              "      <td>2.461544</td>\n",
              "      <td>0.50</td>\n",
              "    </tr>\n",
              "    <tr>\n",
              "      <th>4</th>\n",
              "      <td>5</td>\n",
              "      <td>3.077393</td>\n",
              "      <td>0.401487</td>\n",
              "      <td>2.130152</td>\n",
              "      <td>0.50</td>\n",
              "    </tr>\n",
              "    <tr>\n",
              "      <th>5</th>\n",
              "      <td>6</td>\n",
              "      <td>2.886764</td>\n",
              "      <td>0.431227</td>\n",
              "      <td>1.874406</td>\n",
              "      <td>0.50</td>\n",
              "    </tr>\n",
              "    <tr>\n",
              "      <th>6</th>\n",
              "      <td>7</td>\n",
              "      <td>2.145900</td>\n",
              "      <td>0.531599</td>\n",
              "      <td>1.620268</td>\n",
              "      <td>0.65</td>\n",
              "    </tr>\n",
              "    <tr>\n",
              "      <th>7</th>\n",
              "      <td>8</td>\n",
              "      <td>2.260355</td>\n",
              "      <td>0.553903</td>\n",
              "      <td>1.614182</td>\n",
              "      <td>0.65</td>\n",
              "    </tr>\n",
              "    <tr>\n",
              "      <th>8</th>\n",
              "      <td>9</td>\n",
              "      <td>2.011411</td>\n",
              "      <td>0.602230</td>\n",
              "      <td>1.617285</td>\n",
              "      <td>0.60</td>\n",
              "    </tr>\n",
              "    <tr>\n",
              "      <th>9</th>\n",
              "      <td>10</td>\n",
              "      <td>1.966670</td>\n",
              "      <td>0.598513</td>\n",
              "      <td>1.361762</td>\n",
              "      <td>0.65</td>\n",
              "    </tr>\n",
              "    <tr>\n",
              "      <th>10</th>\n",
              "      <td>11</td>\n",
              "      <td>1.665556</td>\n",
              "      <td>0.639405</td>\n",
              "      <td>1.233540</td>\n",
              "      <td>0.65</td>\n",
              "    </tr>\n",
              "    <tr>\n",
              "      <th>11</th>\n",
              "      <td>12</td>\n",
              "      <td>1.545300</td>\n",
              "      <td>0.654275</td>\n",
              "      <td>0.953095</td>\n",
              "      <td>0.70</td>\n",
              "    </tr>\n",
              "    <tr>\n",
              "      <th>12</th>\n",
              "      <td>13</td>\n",
              "      <td>1.778489</td>\n",
              "      <td>0.631970</td>\n",
              "      <td>1.103213</td>\n",
              "      <td>0.60</td>\n",
              "    </tr>\n",
              "    <tr>\n",
              "      <th>13</th>\n",
              "      <td>14</td>\n",
              "      <td>1.453096</td>\n",
              "      <td>0.643123</td>\n",
              "      <td>1.156554</td>\n",
              "      <td>0.65</td>\n",
              "    </tr>\n",
              "    <tr>\n",
              "      <th>14</th>\n",
              "      <td>15</td>\n",
              "      <td>1.446366</td>\n",
              "      <td>0.657993</td>\n",
              "      <td>0.883886</td>\n",
              "      <td>0.65</td>\n",
              "    </tr>\n",
              "    <tr>\n",
              "      <th>15</th>\n",
              "      <td>16</td>\n",
              "      <td>1.371569</td>\n",
              "      <td>0.689286</td>\n",
              "      <td>0.943174</td>\n",
              "      <td>0.65</td>\n",
              "    </tr>\n",
              "    <tr>\n",
              "      <th>16</th>\n",
              "      <td>17</td>\n",
              "      <td>1.223096</td>\n",
              "      <td>0.717472</td>\n",
              "      <td>0.685414</td>\n",
              "      <td>0.65</td>\n",
              "    </tr>\n",
              "    <tr>\n",
              "      <th>17</th>\n",
              "      <td>18</td>\n",
              "      <td>1.245570</td>\n",
              "      <td>0.665428</td>\n",
              "      <td>0.599879</td>\n",
              "      <td>0.75</td>\n",
              "    </tr>\n",
              "    <tr>\n",
              "      <th>18</th>\n",
              "      <td>19</td>\n",
              "      <td>1.238831</td>\n",
              "      <td>0.665428</td>\n",
              "      <td>0.702355</td>\n",
              "      <td>0.65</td>\n",
              "    </tr>\n",
              "    <tr>\n",
              "      <th>19</th>\n",
              "      <td>20</td>\n",
              "      <td>1.113806</td>\n",
              "      <td>0.736059</td>\n",
              "      <td>0.725716</td>\n",
              "      <td>0.70</td>\n",
              "    </tr>\n",
              "    <tr>\n",
              "      <th>20</th>\n",
              "      <td>21</td>\n",
              "      <td>1.093369</td>\n",
              "      <td>0.721190</td>\n",
              "      <td>0.712774</td>\n",
              "      <td>0.75</td>\n",
              "    </tr>\n",
              "  </tbody>\n",
              "</table>\n",
              "</div>\n",
              "      <button class=\"colab-df-convert\" onclick=\"convertToInteractive('df-1bd5935d-310e-442b-9261-b661c04358e1')\"\n",
              "              title=\"Convert this dataframe to an interactive table.\"\n",
              "              style=\"display:none;\">\n",
              "        \n",
              "  <svg xmlns=\"http://www.w3.org/2000/svg\" height=\"24px\"viewBox=\"0 0 24 24\"\n",
              "       width=\"24px\">\n",
              "    <path d=\"M0 0h24v24H0V0z\" fill=\"none\"/>\n",
              "    <path d=\"M18.56 5.44l.94 2.06.94-2.06 2.06-.94-2.06-.94-.94-2.06-.94 2.06-2.06.94zm-11 1L8.5 8.5l.94-2.06 2.06-.94-2.06-.94L8.5 2.5l-.94 2.06-2.06.94zm10 10l.94 2.06.94-2.06 2.06-.94-2.06-.94-.94-2.06-.94 2.06-2.06.94z\"/><path d=\"M17.41 7.96l-1.37-1.37c-.4-.4-.92-.59-1.43-.59-.52 0-1.04.2-1.43.59L10.3 9.45l-7.72 7.72c-.78.78-.78 2.05 0 2.83L4 21.41c.39.39.9.59 1.41.59.51 0 1.02-.2 1.41-.59l7.78-7.78 2.81-2.81c.8-.78.8-2.07 0-2.86zM5.41 20L4 18.59l7.72-7.72 1.47 1.35L5.41 20z\"/>\n",
              "  </svg>\n",
              "      </button>\n",
              "      \n",
              "  <style>\n",
              "    .colab-df-container {\n",
              "      display:flex;\n",
              "      flex-wrap:wrap;\n",
              "      gap: 12px;\n",
              "    }\n",
              "\n",
              "    .colab-df-convert {\n",
              "      background-color: #E8F0FE;\n",
              "      border: none;\n",
              "      border-radius: 50%;\n",
              "      cursor: pointer;\n",
              "      display: none;\n",
              "      fill: #1967D2;\n",
              "      height: 32px;\n",
              "      padding: 0 0 0 0;\n",
              "      width: 32px;\n",
              "    }\n",
              "\n",
              "    .colab-df-convert:hover {\n",
              "      background-color: #E2EBFA;\n",
              "      box-shadow: 0px 1px 2px rgba(60, 64, 67, 0.3), 0px 1px 3px 1px rgba(60, 64, 67, 0.15);\n",
              "      fill: #174EA6;\n",
              "    }\n",
              "\n",
              "    [theme=dark] .colab-df-convert {\n",
              "      background-color: #3B4455;\n",
              "      fill: #D2E3FC;\n",
              "    }\n",
              "\n",
              "    [theme=dark] .colab-df-convert:hover {\n",
              "      background-color: #434B5C;\n",
              "      box-shadow: 0px 1px 3px 1px rgba(0, 0, 0, 0.15);\n",
              "      filter: drop-shadow(0px 1px 2px rgba(0, 0, 0, 0.3));\n",
              "      fill: #FFFFFF;\n",
              "    }\n",
              "  </style>\n",
              "\n",
              "      <script>\n",
              "        const buttonEl =\n",
              "          document.querySelector('#df-1bd5935d-310e-442b-9261-b661c04358e1 button.colab-df-convert');\n",
              "        buttonEl.style.display =\n",
              "          google.colab.kernel.accessAllowed ? 'block' : 'none';\n",
              "\n",
              "        async function convertToInteractive(key) {\n",
              "          const element = document.querySelector('#df-1bd5935d-310e-442b-9261-b661c04358e1');\n",
              "          const dataTable =\n",
              "            await google.colab.kernel.invokeFunction('convertToInteractive',\n",
              "                                                     [key], {});\n",
              "          if (!dataTable) return;\n",
              "\n",
              "          const docLinkHtml = 'Like what you see? Visit the ' +\n",
              "            '<a target=\"_blank\" href=https://colab.research.google.com/notebooks/data_table.ipynb>data table notebook</a>'\n",
              "            + ' to learn more about interactive tables.';\n",
              "          element.innerHTML = '';\n",
              "          dataTable['output_type'] = 'display_data';\n",
              "          await google.colab.output.renderOutput(dataTable, element);\n",
              "          const docLink = document.createElement('div');\n",
              "          docLink.innerHTML = docLinkHtml;\n",
              "          element.appendChild(docLink);\n",
              "        }\n",
              "      </script>\n",
              "    </div>\n",
              "  </div>\n",
              "  "
            ]
          },
          "metadata": {},
          "execution_count": 138
        }
      ]
    },
    {
      "cell_type": "code",
      "source": [
        "test_loss,test_acc=model.evaluate(testX,testY,steps=n_test_steps)\n"
      ],
      "metadata": {
        "colab": {
          "base_uri": "https://localhost:8080/"
        },
        "id": "_cWmp-bRX46L",
        "outputId": "f70269b7-d85f-411c-c882-182633b555e0"
      },
      "execution_count": null,
      "outputs": [
        {
          "output_type": "stream",
          "name": "stdout",
          "text": [
            "2/2 [==============================] - 0s 6ms/step - loss: 0.8734 - accuracy: 0.7419\n"
          ]
        }
      ]
    },
    {
      "cell_type": "code",
      "source": [
        "y_pred=model.predict(testX)"
      ],
      "metadata": {
        "id": "IQoFFpsRYboO"
      },
      "execution_count": null,
      "outputs": []
    },
    {
      "cell_type": "code",
      "source": [
        "y_pred"
      ],
      "metadata": {
        "colab": {
          "base_uri": "https://localhost:8080/"
        },
        "id": "HCBglfbMYhtj",
        "outputId": "a6ae1d15-e7a1-4ec4-83a4-02fe7998b3d9"
      },
      "execution_count": null,
      "outputs": [
        {
          "output_type": "execute_result",
          "data": {
            "text/plain": [
              "array([[4.25062269e-01, 6.88734874e-02, 3.98557261e-02, 4.39589424e-03,\n",
              "        3.33135724e-01, 1.28676906e-01],\n",
              "       [9.76581126e-04, 2.59694248e-01, 1.43015096e-02, 1.57945886e-01,\n",
              "        8.22920427e-02, 4.84789759e-01],\n",
              "       [2.56861925e-01, 2.49883294e-01, 2.35093050e-02, 2.39272579e-03,\n",
              "        2.31504187e-01, 2.35848501e-01],\n",
              "       [1.00286743e-04, 5.53145510e-05, 6.54291303e-04, 9.99190152e-01,\n",
              "        2.75668466e-08, 3.54417762e-09],\n",
              "       [7.29015648e-01, 4.48365733e-02, 1.66454867e-01, 4.12821490e-03,\n",
              "        4.19054255e-02, 1.36592630e-02],\n",
              "       [4.96242158e-02, 9.00995510e-04, 9.45337653e-01, 2.50949338e-03,\n",
              "        1.21015089e-03, 4.17578703e-04],\n",
              "       [6.95219217e-03, 9.04154440e-05, 9.88719881e-01, 3.95793002e-03,\n",
              "        2.04672207e-04, 7.48683015e-05],\n",
              "       [1.97197795e-02, 4.98538375e-01, 9.24430136e-03, 1.00386050e-03,\n",
              "        8.86664540e-02, 3.82827252e-01],\n",
              "       [1.10972458e-08, 1.17594273e-05, 9.72438487e-04, 9.99015808e-01,\n",
              "        1.02853108e-10, 7.99033373e-09],\n",
              "       [1.12672135e-01, 3.03667903e-01, 1.53775206e-02, 1.69073208e-03,\n",
              "        2.12340772e-01, 3.54250938e-01],\n",
              "       [5.30881546e-02, 1.30703347e-03, 9.35618877e-01, 6.09365944e-03,\n",
              "        2.83031468e-03, 1.06204988e-03],\n",
              "       [2.35247593e-02, 2.63336417e-03, 3.64125997e-04, 9.73477423e-01,\n",
              "        3.60545414e-07, 1.28687114e-08],\n",
              "       [9.52006332e-08, 2.12251411e-10, 4.66302799e-06, 9.99995232e-01,\n",
              "        1.12997901e-15, 3.08567775e-18],\n",
              "       [3.01128794e-02, 1.21649861e-01, 6.62917420e-02, 1.03759728e-01,\n",
              "        2.11423993e-01, 4.66761827e-01],\n",
              "       [6.81902961e-08, 5.58487652e-03, 1.02428123e-04, 1.77320419e-03,\n",
              "        2.36817636e-02, 9.68857646e-01],\n",
              "       [7.01966637e-05, 5.00303600e-03, 2.53269076e-02, 9.69437659e-01,\n",
              "        7.78418689e-06, 1.54559311e-04],\n",
              "       [5.64090967e-01, 4.71564718e-02, 2.22638950e-01, 5.47208823e-03,\n",
              "        1.15539670e-01, 4.51018140e-02],\n",
              "       [3.25281988e-04, 2.02243105e-02, 2.32752832e-03, 1.95567235e-02,\n",
              "        1.22606173e-01, 8.34960043e-01],\n",
              "       [2.08525896e-01, 2.73796041e-02, 7.16968119e-01, 1.15312170e-02,\n",
              "        1.98472757e-02, 1.57478880e-02],\n",
              "       [2.61151092e-03, 3.82864359e-03, 1.43656945e-02, 9.48624730e-01,\n",
              "        2.07298882e-02, 9.83952451e-03],\n",
              "       [1.15396567e-01, 4.07219073e-03, 8.56052220e-01, 1.25753777e-02,\n",
              "        8.58189724e-03, 3.32167814e-03],\n",
              "       [9.92644131e-02, 1.48469999e-01, 1.07941493e-01, 1.10113956e-01,\n",
              "        2.62450367e-01, 2.71759659e-01],\n",
              "       [4.10253108e-01, 8.34802091e-02, 2.98521277e-02, 2.53340113e-03,\n",
              "        3.28217566e-01, 1.45663515e-01],\n",
              "       [5.57992280e-01, 3.47182453e-02, 3.49200636e-01, 7.38901412e-03,\n",
              "        3.59659009e-02, 1.47339217e-02],\n",
              "       [2.18313262e-02, 3.13922912e-01, 3.88699286e-02, 2.37823259e-02,\n",
              "        1.46046475e-01, 4.55547094e-01],\n",
              "       [4.05021966e-01, 2.81017646e-02, 4.48174506e-01, 1.04548149e-02,\n",
              "        7.63912871e-02, 3.18556353e-02],\n",
              "       [9.09698904e-02, 2.70812400e-03, 8.88767898e-01, 1.29889939e-02,\n",
              "        3.31522222e-03, 1.24987925e-03],\n",
              "       [1.85698409e-05, 7.80935049e-01, 6.28979993e-04, 3.23886808e-04,\n",
              "        3.63350054e-03, 2.14460164e-01],\n",
              "       [1.19171785e-02, 1.04211897e-01, 6.34475797e-02, 4.41774845e-01,\n",
              "        1.41098961e-01, 2.37549528e-01],\n",
              "       [2.19796691e-03, 3.32858115e-02, 2.48694457e-02, 4.58652586e-01,\n",
              "        1.67800143e-01, 3.13194007e-01],\n",
              "       [8.28502350e-04, 4.24907979e-04, 9.16148478e-04, 9.97829974e-01,\n",
              "        4.43153908e-07, 5.03051396e-08]], dtype=float32)"
            ]
          },
          "metadata": {},
          "execution_count": 115
        }
      ]
    },
    {
      "cell_type": "code",
      "source": [
        "re_transformed_y_pred=encoder.inverse_transform(y_pred)"
      ],
      "metadata": {
        "id": "kdSJGYMGYq6u"
      },
      "execution_count": null,
      "outputs": []
    },
    {
      "cell_type": "code",
      "source": [
        "re_transformed_y_pred[:5]"
      ],
      "metadata": {
        "colab": {
          "base_uri": "https://localhost:8080/"
        },
        "id": "EMYz7V4AYzbU",
        "outputId": "5ca313c1-4c47-496d-e857-970fe63665af"
      },
      "execution_count": null,
      "outputs": [
        {
          "output_type": "execute_result",
          "data": {
            "text/plain": [
              "array([['P'],\n",
              "       ['W'],\n",
              "       ['P'],\n",
              "       ['SW'],\n",
              "       ['P']], dtype=object)"
            ]
          },
          "metadata": {},
          "execution_count": 117
        }
      ]
    },
    {
      "cell_type": "code",
      "source": [
        "from sklearn.metrics import confusion_matrix\n",
        "import seaborn as sn\n",
        "import matplotlib.pyplot as plt\n",
        "sn.set()\n",
        "y_predicted=model.predict(testX)\n",
        "mat=confusion_matrix(testY.argmax(axis=1),y_predicted.argmax(axis=1))\n",
        "sn.heatmap(mat,square=True,annot=True,fmt='d',cbar=False,cmap='Blues')\n",
        "plt.xlabel('Predicted Label')\n",
        "plt.ylabel('Actual Label')"
      ],
      "metadata": {
        "colab": {
          "base_uri": "https://localhost:8080/",
          "height": 303
        },
        "id": "VbBFHDhNY98V",
        "outputId": "870583ef-40aa-4e39-9e52-9675052f338b"
      },
      "execution_count": null,
      "outputs": [
        {
          "output_type": "execute_result",
          "data": {
            "text/plain": [
              "Text(89.18, 0.5, 'Actual Label')"
            ]
          },
          "metadata": {},
          "execution_count": 139
        },
        {
          "output_type": "display_data",
          "data": {
            "text/plain": [
              "<Figure size 432x288 with 1 Axes>"
            ],
            "image/png": "[encoded data removed]"
          },
          "metadata": {}
        }
      ]
    }
  ]
}